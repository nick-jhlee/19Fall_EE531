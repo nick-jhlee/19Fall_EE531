{
  "nbformat": 4,
  "nbformat_minor": 0,
  "metadata": {
    "colab": {
      "name": "2019_Fall_EE531_Assignment_4.ipynb",
      "provenance": [],
      "collapsed_sections": [],
      "include_colab_link": true
    },
    "kernelspec": {
      "name": "python3",
      "display_name": "Python 3"
    },
    "accelerator": "GPU"
  },
  "cells": [
    {
      "cell_type": "markdown",
      "metadata": {
        "id": "view-in-github",
        "colab_type": "text"
      },
      "source": [
        "<a href=\"https://colab.research.google.com/github/science0229/19Fall_EE531-1-/blob/master/2019_Fall_EE531_Assignment_4.ipynb\" target=\"_parent\"><img src=\"https://colab.research.google.com/assets/colab-badge.svg\" alt=\"Open In Colab\"/></a>"
      ]
    },
    {
      "cell_type": "markdown",
      "metadata": {
        "id": "2fat9ySqb6KZ",
        "colab_type": "text"
      },
      "source": [
        "# 2019 Fall EE531 Assignment #4"
      ]
    },
    {
      "cell_type": "markdown",
      "metadata": {
        "id": "SVj2CPkV6BnA",
        "colab_type": "text"
      },
      "source": [
        "A significant portion of the code has been reordered and a bit modified.\n",
        "\n",
        "(Style of coding has been largely inspired by coding assignments from CS470: Introduction to Artificial Intelligence)"
      ]
    },
    {
      "cell_type": "markdown",
      "metadata": {
        "id": "WmMSLYo42wxr",
        "colab_type": "text"
      },
      "source": [
        "## Step 1: Connect to my Google Drive\n",
        "\n",
        "Required to save checkpoints and load them later on."
      ]
    },
    {
      "cell_type": "code",
      "metadata": {
        "id": "gSIQSulV25Sy",
        "colab_type": "code",
        "outputId": "5fbb6e1e-0369-4122-9f73-535d9cf08ce2",
        "colab": {
          "base_uri": "https://localhost:8080/",
          "height": 126
        }
      },
      "source": [
        "from google.colab import drive\n",
        "\n",
        "drive.mount('/gdrive')\n",
        "gdrive_root = '/gdrive/My Drive'"
      ],
      "execution_count": 1,
      "outputs": [
        {
          "output_type": "stream",
          "text": [
            "Go to this URL in a browser: https://accounts.google.com/o/oauth2/auth?client_id=947318989803-6bn6qk8qdgf4n4g3pfee6491hc0brc4i.apps.googleusercontent.com&redirect_uri=urn%3aietf%3awg%3aoauth%3a2.0%3aoob&response_type=code&scope=email%20https%3a%2f%2fwww.googleapis.com%2fauth%2fdocs.test%20https%3a%2f%2fwww.googleapis.com%2fauth%2fdrive%20https%3a%2f%2fwww.googleapis.com%2fauth%2fdrive.photos.readonly%20https%3a%2f%2fwww.googleapis.com%2fauth%2fpeopleapi.readonly\n",
            "\n",
            "Enter your authorization code:\n",
            "··········\n",
            "Mounted at /gdrive\n"
          ],
          "name": "stdout"
        }
      ]
    },
    {
      "cell_type": "markdown",
      "metadata": {
        "id": "qQfUDSvTbb8t",
        "colab_type": "text"
      },
      "source": [
        "## Step 2: Install Dependencies (Python Packages)"
      ]
    },
    {
      "cell_type": "code",
      "metadata": {
        "id": "YVc-wLPrWlKF",
        "colab_type": "code",
        "outputId": "a4e6704d-3b3d-41f1-a7c4-2e77791b1bf3",
        "colab": {
          "base_uri": "https://localhost:8080/",
          "height": 124
        }
      },
      "source": [
        "!pip install --upgrade pip\n",
        "!pip install numpy\n",
        "!pip install scipy\n",
        "!pip install torch"
      ],
      "execution_count": 2,
      "outputs": [
        {
          "output_type": "stream",
          "text": [
            "Requirement already up-to-date: pip in /usr/local/lib/python3.6/dist-packages (19.3.1)\n",
            "Requirement already satisfied: numpy in /usr/local/lib/python3.6/dist-packages (1.17.4)\n",
            "Requirement already satisfied: scipy in /usr/local/lib/python3.6/dist-packages (1.3.3)\n",
            "Requirement already satisfied: numpy>=1.13.3 in /usr/local/lib/python3.6/dist-packages (from scipy) (1.17.4)\n",
            "Requirement already satisfied: torch in /usr/local/lib/python3.6/dist-packages (1.3.1)\n",
            "Requirement already satisfied: numpy in /usr/local/lib/python3.6/dist-packages (from torch) (1.17.4)\n"
          ],
          "name": "stdout"
        }
      ]
    },
    {
      "cell_type": "markdown",
      "metadata": {
        "id": "x5kya6zQbyIb",
        "colab_type": "text"
      },
      "source": [
        "## Step 3: Import Necessary Python Modules"
      ]
    },
    {
      "cell_type": "code",
      "metadata": {
        "id": "uxQlM_encDBY",
        "colab_type": "code",
        "outputId": "fdac1887-6548-4ca4-b06e-e495732a7756",
        "colab": {
          "base_uri": "https://localhost:8080/",
          "height": 100
        }
      },
      "source": [
        "import os\n",
        "\n",
        "import argparse\n",
        "import math\n",
        "import time\n",
        "\n",
        "import torch\n",
        "import torch.nn as nn\n",
        "import torch.nn.functional as F\n",
        "from torch.nn.parameter import Parameter\n",
        "from torch.nn import init\n",
        "import torch.optim as optim\n",
        "\n",
        "# Import Tensorboard module (for pytorch)\n",
        "!pip install -U tensorboardcolab\n",
        "from tensorboardcolab import TensorBoardColab\n",
        "\n",
        "import numpy as np\n",
        "import scipy.sparse as sp"
      ],
      "execution_count": 3,
      "outputs": [
        {
          "output_type": "stream",
          "text": [
            "Requirement already up-to-date: tensorboardcolab in /usr/local/lib/python3.6/dist-packages (0.0.22)\n"
          ],
          "name": "stdout"
        },
        {
          "output_type": "display_data",
          "data": {
            "text/html": [
              "<p style=\"color: red;\">\n",
              "The default version of TensorFlow in Colab will soon switch to TensorFlow 2.x.<br>\n",
              "We recommend you <a href=\"https://www.tensorflow.org/guide/migrate\" target=\"_blank\">upgrade</a> now \n",
              "or ensure your notebook will continue to use TensorFlow 1.x via the <code>%tensorflow_version 1.x</code> magic:\n",
              "<a href=\"https://colab.research.google.com/notebooks/tensorflow_version.ipynb\" target=\"_blank\">more info</a>.</p>\n"
            ],
            "text/plain": [
              "<IPython.core.display.HTML object>"
            ]
          },
          "metadata": {
            "tags": []
          }
        },
        {
          "output_type": "stream",
          "text": [
            "Using TensorFlow backend.\n"
          ],
          "name": "stderr"
        }
      ]
    },
    {
      "cell_type": "markdown",
      "metadata": {
        "id": "bSAZ31ze3g-p",
        "colab_type": "text"
      },
      "source": [
        "## Step 4: Configure the experiments"
      ]
    },
    {
      "cell_type": "code",
      "metadata": {
        "id": "K_bWdbXU3kE3",
        "colab_type": "code",
        "outputId": "bb0be953-baeb-4749-dbc2-f5e214616693",
        "colab": {
          "base_uri": "https://localhost:8080/",
          "height": 71
        }
      },
      "source": [
        "# Training settings (You can modify to get your best results)\n",
        "# Same parameters as Kipf & Welling, 2017\n",
        "EPOCHS = 200\n",
        "LR = 0.01\n",
        "WEIGHT_DECAY = 5e-4\n",
        "HIDDEN = 16\n",
        "\n",
        "# Dropout setting\n",
        "#DROPOUT = 0\n",
        "DROPOUT = 0.5\n",
        "\n",
        "# Boolean value for Xavier initialization\n",
        "# Used uniform xavier initialization from Glorot & Bengio, 2010\n",
        "XAVIER = True\n",
        "#XAVIER = False\n",
        "\n",
        "# Boolean for the availability of cuda\n",
        "CUDA = torch.cuda.is_available()\n",
        "# .cuda()/.cpu() is the old, pre-0.4 way.\n",
        "# As of 0.4, it is recommended to use .to(device)\n",
        "device = 'cuda'\n",
        "\n",
        "# Boolean value to select training process\n",
        "#training_process=True\n",
        "\n",
        "# Seeding process for recreation of results\n",
        "SEED = 42\n",
        "np.random.seed(SEED)\n",
        "torch.manual_seed(SEED)\n",
        "if CUDA:\n",
        "    torch.cuda.manual_seed(SEED)\n",
        "\n",
        "\n",
        "# Initialize tensorboard for visualization\n",
        "# Note : click the Tensorboard link to see the visualization of training/testing results\n",
        "tbc = TensorBoardColab()"
      ],
      "execution_count": 4,
      "outputs": [
        {
          "output_type": "stream",
          "text": [
            "Wait for 8 seconds...\n",
            "TensorBoard link:\n",
            "http://ccad254b.ngrok.io\n"
          ],
          "name": "stdout"
        }
      ]
    },
    {
      "cell_type": "markdown",
      "metadata": {
        "id": "oFB3Kkk4ukC3",
        "colab_type": "text"
      },
      "source": [
        "## Step 5: Download CORA dataset"
      ]
    },
    {
      "cell_type": "code",
      "metadata": {
        "id": "UWWh0FCHs4mq",
        "colab_type": "code",
        "outputId": "35779dd8-f341-4f21-db4f-7c864282e095",
        "colab": {
          "base_uri": "https://localhost:8080/",
          "height": 124
        }
      },
      "source": [
        "!git clone https://github.com/hobincar/EE531-HW4-dataset.git data"
      ],
      "execution_count": 5,
      "outputs": [
        {
          "output_type": "stream",
          "text": [
            "Cloning into 'data'...\n",
            "remote: Enumerating objects: 10, done.\u001b[K\n",
            "remote: Counting objects:  10% (1/10)\u001b[K\rremote: Counting objects:  20% (2/10)\u001b[K\rremote: Counting objects:  30% (3/10)\u001b[K\rremote: Counting objects:  40% (4/10)\u001b[K\rremote: Counting objects:  50% (5/10)\u001b[K\rremote: Counting objects:  60% (6/10)\u001b[K\rremote: Counting objects:  70% (7/10)\u001b[K\rremote: Counting objects:  80% (8/10)\u001b[K\rremote: Counting objects:  90% (9/10)\u001b[K\rremote: Counting objects: 100% (10/10)\u001b[K\rremote: Counting objects: 100% (10/10), done.\u001b[K\n",
            "remote: Compressing objects:  12% (1/8)\u001b[K\rremote: Compressing objects:  25% (2/8)\u001b[K\rremote: Compressing objects:  37% (3/8)\u001b[K\rremote: Compressing objects:  50% (4/8)\u001b[K\rremote: Compressing objects:  62% (5/8)\u001b[K\rremote: Compressing objects:  75% (6/8)\u001b[K\rremote: Compressing objects:  87% (7/8)\u001b[K\rremote: Compressing objects: 100% (8/8)\u001b[K\rremote: Compressing objects: 100% (8/8), done.\u001b[K\n",
            "Unpacking objects:  10% (1/10)   \rUnpacking objects:  20% (2/10)   \rUnpacking objects:  30% (3/10)   \rUnpacking objects:  40% (4/10)   \rUnpacking objects:  50% (5/10)   \rUnpacking objects:  60% (6/10)   \rremote: Total 10 (delta 1), reused 5 (delta 0), pack-reused 0\u001b[K\n",
            "Unpacking objects:  70% (7/10)   \rUnpacking objects:  80% (8/10)   \rUnpacking objects:  90% (9/10)   \rUnpacking objects: 100% (10/10)   \rUnpacking objects: 100% (10/10), done.\n"
          ],
          "name": "stdout"
        }
      ]
    },
    {
      "cell_type": "markdown",
      "metadata": {
        "id": "WURxbcs0dU7I",
        "colab_type": "text"
      },
      "source": [
        "## Step 6: Define Utility Functions\n",
        "   * `encode_onehot(labels)`: Encode `labels` into one-hot vectors.\n",
        "   * `load_data(path, dataset)`: Load `dataset` from the directory in `path`.\n",
        "   * `normalize(mtx)`: Normalize a matrix `mtx` row-wise.\n",
        "   * `sparse_mx_to_torch_sparse_tensor(sparse_mx)`: Convert a scipy sparse matrix `sparse_mx` to a torch sparse tensor.\n",
        "   * `accuracy(output, labels)`: Measure accuracy by comparing the predicted logits `output` with the ground-truth labels `labels`.\n",
        "  "
      ]
    },
    {
      "cell_type": "code",
      "metadata": {
        "id": "wOKRbOAYX0LR",
        "colab_type": "code",
        "colab": {}
      },
      "source": [
        "def encode_onehot(labels):\n",
        "    classes = set(labels)\n",
        "    classes_dict = {c: np.identity(len(classes))[i, :] for i, c in\n",
        "                    enumerate(classes)}\n",
        "    labels_onehot = np.array(list(map(classes_dict.get, labels)),\n",
        "                             dtype=np.int32)\n",
        "    return labels_onehot\n",
        "\n",
        "\n",
        "def load_data(path=\"./data/cora/\", dataset=\"cora\"):\n",
        "    print('Loading {} dataset...'.format(dataset))\n",
        "\n",
        "    idx_features_labels = np.genfromtxt(\"{}{}.content\".format(path, dataset),\n",
        "                                        dtype=np.dtype(str))\n",
        "    features = sp.csr_matrix(idx_features_labels[:, 1:-1], dtype=np.float32)\n",
        "    labels = encode_onehot(idx_features_labels[:, -1])\n",
        "\n",
        "    # build graph\n",
        "    idx = np.array(idx_features_labels[:, 0], dtype=np.int32)\n",
        "    idx_map = {j: i for i, j in enumerate(idx)}\n",
        "    edges_unordered = np.genfromtxt(\"{}{}.cites\".format(path, dataset),\n",
        "                                    dtype=np.int32)\n",
        "    edges = np.array(list(map(idx_map.get, edges_unordered.flatten())),\n",
        "                     dtype=np.int32).reshape(edges_unordered.shape)\n",
        "    adj = sp.coo_matrix((np.ones(edges.shape[0]), (edges[:, 0], edges[:, 1])),\n",
        "                        shape=(labels.shape[0], labels.shape[0]),\n",
        "                        dtype=np.float32)\n",
        "\n",
        "    # build symmetric adjacency matrix\n",
        "    adj = adj + adj.T.multiply(adj.T > adj) - adj.multiply(adj.T > adj)\n",
        "\n",
        "    features = normalize(features)\n",
        "    adj = normalize(adj + sp.eye(adj.shape[0]))\n",
        "\n",
        "    idx_train = range(140)\n",
        "    idx_val = range(200, 500)\n",
        "    idx_test = range(500, 2708)\n",
        "\n",
        "    features = torch.FloatTensor(np.array(features.todense()))\n",
        "    labels = torch.LongTensor(np.where(labels)[1])\n",
        "    adj = sparse_mx_to_torch_sparse_tensor(adj)\n",
        "\n",
        "    idx_train = torch.LongTensor(idx_train)\n",
        "    idx_val = torch.LongTensor(idx_val)\n",
        "    idx_test = torch.LongTensor(idx_test)\n",
        "\n",
        "    return adj, features, labels, idx_train, idx_val, idx_test\n",
        "\n",
        "\n",
        "def normalize(mtx):\n",
        "    rowsum = np.array(mtx.sum(1))\n",
        "    r_inv = np.power(rowsum, -1).flatten()\n",
        "    r_inv[np.isinf(r_inv)] = 0.\n",
        "    r_mat_inv = sp.diags(r_inv)\n",
        "    mtx = r_mat_inv.dot(mtx)\n",
        "    return mtx\n",
        "\n",
        "\n",
        "def sparse_mx_to_torch_sparse_tensor(sparse_mx):\n",
        "    sparse_mx = sparse_mx.tocoo().astype(np.float32)\n",
        "    indices = torch.from_numpy(\n",
        "        np.vstack((sparse_mx.row, sparse_mx.col)).astype(np.int64))\n",
        "    values = torch.from_numpy(sparse_mx.data)\n",
        "    shape = torch.Size(sparse_mx.shape)\n",
        "    return torch.sparse.FloatTensor(indices, values, shape)\n",
        "\n",
        "\n",
        "def accuracy(output, labels):\n",
        "    preds = output.max(1)[1].type_as(labels)\n",
        "    correct = preds.eq(labels).double()\n",
        "    correct = correct.sum()\n",
        "    return correct / len(labels)"
      ],
      "execution_count": 0,
      "outputs": []
    },
    {
      "cell_type": "markdown",
      "metadata": {
        "id": "Y_26uHrJdHH9",
        "colab_type": "text"
      },
      "source": [
        "## Step 7: Define Graph Convolutional Layer\n",
        "Graph Convolution Layer is a building block of Graph Convolutional Network which will be defined in the next section."
      ]
    },
    {
      "cell_type": "code",
      "metadata": {
        "id": "LxRhuCeQXa8L",
        "colab_type": "code",
        "colab": {}
      },
      "source": [
        "class GraphConvolutionLayer(nn.Module):\n",
        "    \"\"\"\n",
        "      A Graph Convolution Layer.\n",
        "\n",
        "      ...\n",
        "\n",
        "      Attributes\n",
        "      ----------\n",
        "      weight : torch.nn.Parameter\n",
        "          a weight parameter matrix of the Graph Convolution Layer.\n",
        "      bias : torch.nn.Parameter\n",
        "          a bias parameter vector of the Graph Convolution Layer.\n",
        "\n",
        "      Methods\n",
        "      -------\n",
        "      __init__(self, in_features, out_features, bias=True)\n",
        "          Initialize the Graph Convolution Layer by declaring and initializing\n",
        "          its weight and bias.\n",
        "      init_parameters(self)\n",
        "          Randomly initialize its parameters (weight and bias).\n",
        "      forward(self, input, adj)\n",
        "          Forward propagation of the Graph Convolution Layer.\n",
        "    \"\"\"\n",
        "    def __init__(self, in_features, out_features, bias=True):\n",
        "        super(GraphConvolutionLayer, self).__init__()\n",
        "        self.in_features = in_features\n",
        "        self.out_features = out_features\n",
        "        self.weight = Parameter(torch.FloatTensor(in_features, out_features))\n",
        "        self.bias = Parameter(torch.FloatTensor(out_features))\n",
        "        self.init_parameters()\n",
        "\n",
        "    def init_parameters(self):\n",
        "        # ========= YOU CODE HERE =========\n",
        "        # Initializing weight and bias\n",
        "        stdv = 1. / math.sqrt(self.weight.size(1))\n",
        "\n",
        "        # With Xavier Initialization\n",
        "        if XAVIER:\n",
        "          init.xavier_uniform_(self.weight)\n",
        "        # Without Xavier Initialization\n",
        "        else:\n",
        "          self.weight.data.uniform_(-stdv, stdv)\n",
        "\n",
        "        # Xavier Initialization is only applied to weights, not bias!\n",
        "        self.bias.data.uniform_(-stdv, stdv)\n",
        "            \n",
        "        # =================================\n",
        "\n",
        "    def forward(self, input, adj):\n",
        "        # ========= YOU CODE HERE =========\n",
        "        # Convolving your input graph with your weight corresponding adjacent \n",
        "        # matrix, don't forget to add bias\n",
        "        s = torch.mm(input, self.weight)\n",
        "        out = torch.mm(adj, s) + self.bias\n",
        "        # =================================\n",
        "        return out\n"
      ],
      "execution_count": 0,
      "outputs": []
    },
    {
      "cell_type": "markdown",
      "metadata": {
        "id": "Tq1xUNUMc2_2",
        "colab_type": "text"
      },
      "source": [
        "## Step 8: Define Graph Convolutional Network"
      ]
    },
    {
      "cell_type": "code",
      "metadata": {
        "id": "tOLeFJPOXwdO",
        "colab_type": "code",
        "colab": {}
      },
      "source": [
        "class GCN(nn.Module):\n",
        "    \"\"\"\n",
        "      A Graph Convolutional Network.\n",
        "\n",
        "      ...\n",
        "\n",
        "      Attributes\n",
        "      ----------\n",
        "      gc<i> : GraphConvolutionLayer\n",
        "          a <i>-th Graph Convolution Layer.\n",
        "          e.g. gc1, gc2, gc3, ...\n",
        "\n",
        "      Methods\n",
        "      -------\n",
        "      __init__(self, nfeat, nhid, nclass, dropout)\n",
        "          Initialize the Graph Convolutional Network by declaring Graph\n",
        "          Convolution Layers.\n",
        "      forward(self, input, adj)\n",
        "          Forward propagation of the Graph Convolutional Network.\n",
        "    \"\"\"\n",
        "    def __init__(self, nfeat, nhid, nclass, dropout):\n",
        "        super(GCN, self).__init__()\n",
        "\n",
        "        # ========= YOU CODE HERE =========\n",
        "        # Declaring your multiple graph convolution layers, remembering that\n",
        "        # output of final layer has dimension equal to number of classes\n",
        "        self.gc1 = GraphConvolutionLayer(nfeat, nhid)\n",
        "        self.gc2 = GraphConvolutionLayer(nhid, nclass)\n",
        "        self.dropout = dropout\n",
        "        # =================================\n",
        "\n",
        "    def forward(self, x, adj):\n",
        "        # ========= YOU CODE HERE =========\n",
        "        # Feeding your input graph and adjacent matrix into multiple graph \n",
        "        # convolution layers and activation function\n",
        "        x = F.relu(self.gc1(x, adj))\n",
        "        x = F.dropout(x, self.dropout, training = self.training)\n",
        "        x = self.gc2(x, adj)\n",
        "        # =================================\n",
        "        out = F.log_softmax(x, dim=1)\n",
        "        return out"
      ],
      "execution_count": 0,
      "outputs": []
    },
    {
      "cell_type": "markdown",
      "metadata": {
        "id": "iunUtm3l5C1k",
        "colab_type": "text"
      },
      "source": [
        "## Step 9: Load dataset & Initialize the network and optimizer"
      ]
    },
    {
      "cell_type": "code",
      "metadata": {
        "id": "Jai0vKm25ICQ",
        "colab_type": "code",
        "outputId": "9b65e1b5-d0ec-4642-d8cc-0091c7a69161",
        "colab": {
          "base_uri": "https://localhost:8080/",
          "height": 106
        }
      },
      "source": [
        "from torchsummary import summary\n",
        "\n",
        "# Loading graph dataset\n",
        "adj, features, labels, idx_train, idx_val, idx_test = load_data()\n",
        "\n",
        "if CUDA:\n",
        "    features = features.to(device)\n",
        "    adj = adj.to(device)\n",
        "    labels = labels.to(device)\n",
        "    idx_train = idx_train.to(device)\n",
        "    idx_val = idx_val.to(device)\n",
        "    idx_test = idx_test.to(device)\n",
        "  \n",
        "\n",
        "# GCN Model\n",
        "model = GCN(nfeat = features.shape[1],\n",
        "            nhid = HIDDEN,\n",
        "            nclass = labels.max().item() + 1,\n",
        "            dropout = DROPOUT)\n",
        "if CUDA:\n",
        "  model = model.to(device)\n",
        "\n",
        "# Print the model summary\n",
        "print(model)\n",
        "\n",
        "# Adam optimizer from Kingma & Ba, 2014\n",
        "optimizer = optim.Adam(model.parameters(),\n",
        "                       lr=LR, weight_decay=WEIGHT_DECAY)"
      ],
      "execution_count": 9,
      "outputs": [
        {
          "output_type": "stream",
          "text": [
            "Loading cora dataset...\n",
            "GCN(\n",
            "  (gc1): GraphConvolutionLayer()\n",
            "  (gc2): GraphConvolutionLayer()\n",
            ")\n"
          ],
          "name": "stdout"
        }
      ]
    },
    {
      "cell_type": "markdown",
      "metadata": {
        "id": "3DhveNXK9BrQ",
        "colab_type": "text"
      },
      "source": [
        "## Step 10: Load pre-trained weights if it exists"
      ]
    },
    {
      "cell_type": "code",
      "metadata": {
        "id": "_r1dIU2f9PDk",
        "colab_type": "code",
        "colab": {
          "base_uri": "https://localhost:8080/",
          "height": 53
        },
        "outputId": "159c90ca-3f49-4a64-9757-b78aa2d42053"
      },
      "source": [
        "# Create (or locate) the folder for storing (pre-)trained model\n",
        "ckpt_dir = os.path.join(gdrive_root, 'EE531_checkpoints')\n",
        "if not os.path.exists(ckpt_dir):\n",
        "  os.makedirs(ckpt_dir)\n",
        "  \n",
        "# Initialize the best accuracy so far\n",
        "acc_best = 0.\n",
        "\n",
        "ckpt_path = os.path.join(ckpt_dir, 'lastest.pt')\n",
        "if os.path.exists(ckpt_path):\n",
        "  # Try to load the pre-trained model\n",
        "  ckpt = torch.load(ckpt_path)\n",
        "  try:\n",
        "    model.load_state_dict(ckpt['model'])\n",
        "    optimizer.load_state_dict(ckpt['optimizer'])\n",
        "    acc_best = ckpt['acc_best']\n",
        "  except RuntimeError as e:\n",
        "      print('wrong checkpoint')\n",
        "  else:    \n",
        "    print('checkpoint is loaded !')\n",
        "    print('current best accuracy : %.2f' %acc_best)"
      ],
      "execution_count": 10,
      "outputs": [
        {
          "output_type": "stream",
          "text": [
            "checkpoint is loaded !\n",
            "current best accuracy : 0.80\n"
          ],
          "name": "stdout"
        }
      ]
    },
    {
      "cell_type": "markdown",
      "metadata": {
        "id": "Qu62_msDdlE9",
        "colab_type": "text"
      },
      "source": [
        "## Step 11: Train GCN"
      ]
    },
    {
      "cell_type": "code",
      "metadata": {
        "id": "H1HzDvWjYAbX",
        "colab_type": "code",
        "outputId": "997ee9f3-48ee-4771-9b48-471927f226e4",
        "colab": {
          "base_uri": "https://localhost:8080/",
          "height": 1000
        }
      },
      "source": [
        "def train(epoch, model, acc_best):\n",
        "    t = time.time()\n",
        "\n",
        "    ## Training phase! ##\n",
        "    model.train()\n",
        "    optimizer.zero_grad()\n",
        "\n",
        "    # ========= YOU CODE HERE =========\n",
        "    # Feeding your input graph (nodes's feature and adjacent matrix) into your\n",
        "    # model and computing loss between prediction and ground truth\n",
        "\n",
        "    # input: feature matrix and the graph's adjacency matrix\n",
        "    # output: predicted labels\n",
        "    output = model(features, adj)\n",
        "    # Use negative log likelihood loss(nll_loss) for the datas assigned for trainig\n",
        "    # idx_train: range of indices for data to be used in the training process\n",
        "    loss_train = F.nll_loss(output[idx_train], labels[idx_train])\n",
        "\n",
        "    # Update the tensorboard plot\n",
        "    tbc.save_value('Loss',' train_loss', epoch, loss_train.item())\n",
        "    # =================================\n",
        "\n",
        "    acc_train = accuracy(output[idx_train], labels[idx_train])\n",
        "    # Update the tensorboard plot\n",
        "    tbc.save_value('Accuracy',' train_accuracy', epoch, acc_train.item())\n",
        "\n",
        "    loss_train.backward()\n",
        "    optimizer.step()\n",
        "\n",
        "\n",
        "\n",
        "    ## Validation phase! ##\n",
        "\n",
        "    # Evaluate validation set performance separately.\n",
        "    # Make the dropout layers work in eval mode, not training mode.\n",
        "    model.eval()\n",
        "    \n",
        "    # ========= YOU CODE HERE =========\n",
        "    # Computing loss for validation set\n",
        "\n",
        "    # input: feature matrix and the graph's adjacency matrix\n",
        "    # output: predicted labels using the model in evaluation mode\n",
        "    output = model(features, adj)\n",
        "    # Use negative log likelihood loss(nll_loss) for the datas assigned for validation\n",
        "    # idx_val: range of indices for data to be used in the validation process\n",
        "    loss_val = F.nll_loss(output[idx_val], labels[idx_val])\n",
        "\n",
        "    # Update the tensorboard plot\n",
        "    tbc.save_value('Loss',' validation loss', epoch, loss_val.item())\n",
        "    tbc.flush_line('train loss')\n",
        "    tbc.flush_line('validation loss')\n",
        "    # =================================\n",
        "    acc_val = accuracy(output[idx_val], labels[idx_val])\n",
        "    # Update the tensorboard plot\n",
        "    tbc.save_value('Accuracy',' validation accuracy', epoch, acc_val.item())\n",
        "\n",
        "\n",
        "    print('Epoch: {:04d}'.format(epoch+1),\n",
        "          'loss_train: {:.4f}'.format(loss_train.item()),\n",
        "          'acc_train: {:.4f}'.format(acc_train.item()),\n",
        "          'loss_val: {:.4f}'.format(loss_val.item()),\n",
        "          'acc_val: {:.4f}'.format(acc_val.item()),\n",
        "          'time: {:.4f}s'.format(time.time() - t))\n",
        "    \n",
        "    # Save checkpoint whenever there is improvement in performance\n",
        "    if acc_val > acc_best:\n",
        "      acc_best = acc_val\n",
        "      # Note: optimizer also has states! Don't forget to save them as well.\n",
        "      ckpt = {'model': model.state_dict(),\n",
        "              'optimizer': optimizer.state_dict(),\n",
        "              'acc_best': acc_best}\n",
        "      torch.save(ckpt, ckpt_path)\n",
        "      print('Checkpoint is saved!')\n",
        "\n",
        "\n",
        "# Train model\n",
        "t_total = time.time()\n",
        "for epoch in range(EPOCHS):\n",
        "    train(epoch, model, acc_best)\n",
        "print(\"Optimization Finished!\")\n",
        "print(\"Total time elapsed: {:.4f}s\".format(time.time() - t_total))\n",
        "\n",
        "\n",
        "#tbc.close()"
      ],
      "execution_count": 11,
      "outputs": [
        {
          "output_type": "stream",
          "text": [
            "WARNING:tensorflow:From /usr/local/lib/python3.6/dist-packages/tensorboardcolab/core.py:49: The name tf.summary.FileWriter is deprecated. Please use tf.compat.v1.summary.FileWriter instead.\n",
            "\n",
            "WARNING:tensorflow:From /usr/local/lib/python3.6/dist-packages/tensorboardcolab/core.py:101: The name tf.Summary is deprecated. Please use tf.compat.v1.Summary instead.\n",
            "\n",
            "Epoch: 0001 loss_train: 3.9061 acc_train: 0.0000 loss_val: 3.2088 acc_val: 0.0267 time: 0.0965s\n",
            "Epoch: 0002 loss_train: 3.8729 acc_train: 0.0071 loss_val: 2.9844 acc_val: 0.0367 time: 0.0062s\n",
            "Epoch: 0003 loss_train: 3.4112 acc_train: 0.0071 loss_val: 2.7458 acc_val: 0.0500 time: 0.0056s\n",
            "Epoch: 0004 loss_train: 3.3096 acc_train: 0.0000 loss_val: 2.5357 acc_val: 0.1000 time: 0.0055s\n",
            "Epoch: 0005 loss_train: 2.8784 acc_train: 0.0857 loss_val: 2.3827 acc_val: 0.2067 time: 0.0057s\n",
            "Epoch: 0006 loss_train: 2.6564 acc_train: 0.1214 loss_val: 2.2749 acc_val: 0.2867 time: 0.0055s\n",
            "Epoch: 0007 loss_train: 2.3643 acc_train: 0.1786 loss_val: 2.1849 acc_val: 0.3400 time: 0.0054s\n",
            "Epoch: 0008 loss_train: 2.3437 acc_train: 0.2500 loss_val: 2.0931 acc_val: 0.3567 time: 0.0056s\n",
            "Epoch: 0009 loss_train: 2.1152 acc_train: 0.2929 loss_val: 1.9976 acc_val: 0.4033 time: 0.0079s\n",
            "Epoch: 0010 loss_train: 1.9557 acc_train: 0.3286 loss_val: 1.9088 acc_val: 0.4667 time: 0.0055s\n",
            "Epoch: 0011 loss_train: 1.8719 acc_train: 0.4286 loss_val: 1.8357 acc_val: 0.5133 time: 0.0055s\n",
            "Epoch: 0012 loss_train: 1.8043 acc_train: 0.4357 loss_val: 1.7746 acc_val: 0.5633 time: 0.0056s\n",
            "Epoch: 0013 loss_train: 1.6560 acc_train: 0.5286 loss_val: 1.7197 acc_val: 0.5533 time: 0.0053s\n",
            "Epoch: 0014 loss_train: 1.5576 acc_train: 0.5214 loss_val: 1.6693 acc_val: 0.5600 time: 0.0056s\n",
            "Epoch: 0015 loss_train: 1.5475 acc_train: 0.5786 loss_val: 1.6190 acc_val: 0.5667 time: 0.0058s\n",
            "Epoch: 0016 loss_train: 1.4137 acc_train: 0.6000 loss_val: 1.5703 acc_val: 0.5633 time: 0.0053s\n",
            "Epoch: 0017 loss_train: 1.4138 acc_train: 0.5857 loss_val: 1.5220 acc_val: 0.5633 time: 0.0055s\n",
            "Epoch: 0018 loss_train: 1.3274 acc_train: 0.6214 loss_val: 1.4766 acc_val: 0.5533 time: 0.0056s\n",
            "Epoch: 0019 loss_train: 1.3477 acc_train: 0.6000 loss_val: 1.4386 acc_val: 0.5567 time: 0.0057s\n",
            "Epoch: 0020 loss_train: 1.2343 acc_train: 0.6429 loss_val: 1.4064 acc_val: 0.5767 time: 0.0065s\n",
            "Epoch: 0021 loss_train: 1.2007 acc_train: 0.6143 loss_val: 1.3765 acc_val: 0.5733 time: 0.0059s\n",
            "Epoch: 0022 loss_train: 1.1557 acc_train: 0.6643 loss_val: 1.3475 acc_val: 0.5833 time: 0.0060s\n",
            "Epoch: 0023 loss_train: 1.1083 acc_train: 0.6643 loss_val: 1.3189 acc_val: 0.5900 time: 0.0058s\n",
            "Epoch: 0024 loss_train: 1.1204 acc_train: 0.6143 loss_val: 1.2905 acc_val: 0.5933 time: 0.0056s\n",
            "Epoch: 0025 loss_train: 1.1178 acc_train: 0.6571 loss_val: 1.2629 acc_val: 0.5967 time: 0.0061s\n",
            "Epoch: 0026 loss_train: 1.0825 acc_train: 0.6429 loss_val: 1.2368 acc_val: 0.6000 time: 0.0073s\n",
            "Epoch: 0027 loss_train: 1.0285 acc_train: 0.6786 loss_val: 1.2122 acc_val: 0.6067 time: 0.0069s\n",
            "Epoch: 0028 loss_train: 1.0000 acc_train: 0.7143 loss_val: 1.1895 acc_val: 0.6067 time: 0.0065s\n",
            "Epoch: 0029 loss_train: 0.9753 acc_train: 0.6929 loss_val: 1.1701 acc_val: 0.6100 time: 0.0059s\n",
            "Epoch: 0030 loss_train: 0.9749 acc_train: 0.6714 loss_val: 1.1547 acc_val: 0.6233 time: 0.0058s\n",
            "Epoch: 0031 loss_train: 0.9298 acc_train: 0.7286 loss_val: 1.1425 acc_val: 0.6233 time: 0.0086s\n",
            "Epoch: 0032 loss_train: 0.9292 acc_train: 0.7071 loss_val: 1.1319 acc_val: 0.6267 time: 0.0057s\n",
            "Epoch: 0033 loss_train: 0.9036 acc_train: 0.6857 loss_val: 1.1220 acc_val: 0.6300 time: 0.0057s\n",
            "Epoch: 0034 loss_train: 0.9612 acc_train: 0.7143 loss_val: 1.1116 acc_val: 0.6300 time: 0.0059s\n",
            "Epoch: 0035 loss_train: 0.8950 acc_train: 0.7286 loss_val: 1.0999 acc_val: 0.6300 time: 0.0059s\n",
            "Epoch: 0036 loss_train: 0.8714 acc_train: 0.7571 loss_val: 1.0867 acc_val: 0.6300 time: 0.0059s\n",
            "Epoch: 0037 loss_train: 0.8907 acc_train: 0.6857 loss_val: 1.0735 acc_val: 0.6367 time: 0.0059s\n",
            "Epoch: 0038 loss_train: 0.9509 acc_train: 0.6357 loss_val: 1.0607 acc_val: 0.6433 time: 0.0060s\n",
            "Epoch: 0039 loss_train: 0.8528 acc_train: 0.7143 loss_val: 1.0490 acc_val: 0.6433 time: 0.0068s\n",
            "Epoch: 0040 loss_train: 0.8348 acc_train: 0.7571 loss_val: 1.0382 acc_val: 0.6467 time: 0.0059s\n",
            "Epoch: 0041 loss_train: 0.8241 acc_train: 0.7643 loss_val: 1.0287 acc_val: 0.6600 time: 0.0059s\n",
            "Epoch: 0042 loss_train: 0.7949 acc_train: 0.7643 loss_val: 1.0201 acc_val: 0.6600 time: 0.0060s\n",
            "Epoch: 0043 loss_train: 0.7765 acc_train: 0.8000 loss_val: 1.0123 acc_val: 0.6633 time: 0.0062s\n",
            "Epoch: 0044 loss_train: 0.8103 acc_train: 0.7929 loss_val: 1.0054 acc_val: 0.6700 time: 0.0058s\n",
            "Epoch: 0045 loss_train: 0.8662 acc_train: 0.7071 loss_val: 0.9989 acc_val: 0.6733 time: 0.0060s\n",
            "Epoch: 0046 loss_train: 0.8259 acc_train: 0.7429 loss_val: 0.9932 acc_val: 0.6800 time: 0.0056s\n",
            "Epoch: 0047 loss_train: 0.8145 acc_train: 0.7571 loss_val: 0.9888 acc_val: 0.6767 time: 0.0059s\n",
            "Epoch: 0048 loss_train: 0.7315 acc_train: 0.8286 loss_val: 0.9846 acc_val: 0.6867 time: 0.0081s\n",
            "Epoch: 0049 loss_train: 0.7643 acc_train: 0.7643 loss_val: 0.9808 acc_val: 0.6867 time: 0.0057s\n",
            "Epoch: 0050 loss_train: 0.7260 acc_train: 0.8357 loss_val: 0.9775 acc_val: 0.6933 time: 0.0058s\n",
            "Epoch: 0051 loss_train: 0.7669 acc_train: 0.8000 loss_val: 0.9746 acc_val: 0.6933 time: 0.0058s\n",
            "Epoch: 0052 loss_train: 0.7671 acc_train: 0.8214 loss_val: 0.9721 acc_val: 0.6967 time: 0.0056s\n",
            "Epoch: 0053 loss_train: 0.7110 acc_train: 0.8286 loss_val: 0.9680 acc_val: 0.7000 time: 0.0058s\n",
            "Epoch: 0054 loss_train: 0.6868 acc_train: 0.8000 loss_val: 0.9635 acc_val: 0.7000 time: 0.0057s\n",
            "Epoch: 0055 loss_train: 0.6872 acc_train: 0.8071 loss_val: 0.9583 acc_val: 0.7033 time: 0.0087s\n",
            "Epoch: 0056 loss_train: 0.7236 acc_train: 0.8357 loss_val: 0.9530 acc_val: 0.7133 time: 0.0116s\n",
            "Epoch: 0057 loss_train: 0.7511 acc_train: 0.8214 loss_val: 0.9470 acc_val: 0.7133 time: 0.0058s\n",
            "Epoch: 0058 loss_train: 0.7685 acc_train: 0.8143 loss_val: 0.9413 acc_val: 0.7133 time: 0.0057s\n",
            "Epoch: 0059 loss_train: 0.6653 acc_train: 0.8214 loss_val: 0.9365 acc_val: 0.7200 time: 0.0057s\n",
            "Epoch: 0060 loss_train: 0.6473 acc_train: 0.8643 loss_val: 0.9314 acc_val: 0.7200 time: 0.0055s\n",
            "Epoch: 0061 loss_train: 0.7444 acc_train: 0.7857 loss_val: 0.9266 acc_val: 0.7200 time: 0.0082s\n",
            "Epoch: 0062 loss_train: 0.6500 acc_train: 0.8071 loss_val: 0.9222 acc_val: 0.7200 time: 0.0058s\n",
            "Epoch: 0063 loss_train: 0.6659 acc_train: 0.8429 loss_val: 0.9181 acc_val: 0.7267 time: 0.0060s\n",
            "Epoch: 0064 loss_train: 0.6826 acc_train: 0.8214 loss_val: 0.9147 acc_val: 0.7333 time: 0.0058s\n",
            "Epoch: 0065 loss_train: 0.6835 acc_train: 0.8714 loss_val: 0.9118 acc_val: 0.7367 time: 0.0056s\n",
            "Epoch: 0066 loss_train: 0.6435 acc_train: 0.8857 loss_val: 0.9093 acc_val: 0.7367 time: 0.0057s\n",
            "Epoch: 0067 loss_train: 0.6933 acc_train: 0.8071 loss_val: 0.9076 acc_val: 0.7400 time: 0.0056s\n",
            "Epoch: 0068 loss_train: 0.6509 acc_train: 0.8643 loss_val: 0.9055 acc_val: 0.7433 time: 0.0058s\n",
            "Epoch: 0069 loss_train: 0.6377 acc_train: 0.8643 loss_val: 0.9024 acc_val: 0.7467 time: 0.0069s\n",
            "Epoch: 0070 loss_train: 0.6543 acc_train: 0.8786 loss_val: 0.8989 acc_val: 0.7467 time: 0.0059s\n",
            "Epoch: 0071 loss_train: 0.6196 acc_train: 0.8500 loss_val: 0.8959 acc_val: 0.7467 time: 0.0057s\n",
            "Epoch: 0072 loss_train: 0.6642 acc_train: 0.8643 loss_val: 0.8922 acc_val: 0.7400 time: 0.0058s\n",
            "Epoch: 0073 loss_train: 0.6657 acc_train: 0.8571 loss_val: 0.8883 acc_val: 0.7400 time: 0.0074s\n",
            "Epoch: 0074 loss_train: 0.6353 acc_train: 0.8857 loss_val: 0.8841 acc_val: 0.7367 time: 0.0066s\n",
            "Epoch: 0075 loss_train: 0.6181 acc_train: 0.8571 loss_val: 0.8806 acc_val: 0.7433 time: 0.0059s\n",
            "Epoch: 0076 loss_train: 0.6830 acc_train: 0.8071 loss_val: 0.8775 acc_val: 0.7433 time: 0.0056s\n",
            "Epoch: 0077 loss_train: 0.6186 acc_train: 0.8286 loss_val: 0.8754 acc_val: 0.7467 time: 0.0055s\n",
            "Epoch: 0078 loss_train: 0.6885 acc_train: 0.8429 loss_val: 0.8734 acc_val: 0.7500 time: 0.0056s\n",
            "Epoch: 0079 loss_train: 0.6443 acc_train: 0.8286 loss_val: 0.8715 acc_val: 0.7533 time: 0.0057s\n",
            "Epoch: 0080 loss_train: 0.6178 acc_train: 0.8857 loss_val: 0.8687 acc_val: 0.7533 time: 0.0056s\n",
            "Epoch: 0081 loss_train: 0.6328 acc_train: 0.8643 loss_val: 0.8665 acc_val: 0.7533 time: 0.0058s\n",
            "Epoch: 0082 loss_train: 0.6783 acc_train: 0.8500 loss_val: 0.8645 acc_val: 0.7533 time: 0.0056s\n",
            "Epoch: 0083 loss_train: 0.6612 acc_train: 0.8429 loss_val: 0.8626 acc_val: 0.7600 time: 0.0057s\n",
            "Epoch: 0084 loss_train: 0.6050 acc_train: 0.8857 loss_val: 0.8605 acc_val: 0.7633 time: 0.0059s\n",
            "Epoch: 0085 loss_train: 0.5604 acc_train: 0.8857 loss_val: 0.8591 acc_val: 0.7633 time: 0.0071s\n",
            "Epoch: 0086 loss_train: 0.6338 acc_train: 0.8500 loss_val: 0.8584 acc_val: 0.7667 time: 0.0086s\n",
            "Epoch: 0087 loss_train: 0.5782 acc_train: 0.9000 loss_val: 0.8572 acc_val: 0.7733 time: 0.0065s\n",
            "Epoch: 0088 loss_train: 0.5884 acc_train: 0.8571 loss_val: 0.8548 acc_val: 0.7733 time: 0.0062s\n",
            "Epoch: 0089 loss_train: 0.6023 acc_train: 0.9071 loss_val: 0.8518 acc_val: 0.7733 time: 0.0059s\n",
            "Epoch: 0090 loss_train: 0.5866 acc_train: 0.8929 loss_val: 0.8488 acc_val: 0.7700 time: 0.0061s\n",
            "Epoch: 0091 loss_train: 0.5246 acc_train: 0.8786 loss_val: 0.8464 acc_val: 0.7767 time: 0.0064s\n",
            "Epoch: 0092 loss_train: 0.6009 acc_train: 0.8714 loss_val: 0.8437 acc_val: 0.7767 time: 0.0058s\n",
            "Epoch: 0093 loss_train: 0.5575 acc_train: 0.9071 loss_val: 0.8416 acc_val: 0.7767 time: 0.0059s\n",
            "Epoch: 0094 loss_train: 0.5814 acc_train: 0.9071 loss_val: 0.8393 acc_val: 0.7767 time: 0.0058s\n",
            "Epoch: 0095 loss_train: 0.5797 acc_train: 0.8643 loss_val: 0.8367 acc_val: 0.7733 time: 0.0054s\n",
            "Epoch: 0096 loss_train: 0.5330 acc_train: 0.9357 loss_val: 0.8343 acc_val: 0.7767 time: 0.0056s\n",
            "Epoch: 0097 loss_train: 0.5609 acc_train: 0.8857 loss_val: 0.8324 acc_val: 0.7800 time: 0.0058s\n",
            "Epoch: 0098 loss_train: 0.5609 acc_train: 0.9214 loss_val: 0.8307 acc_val: 0.7767 time: 0.0068s\n",
            "Epoch: 0099 loss_train: 0.6005 acc_train: 0.8786 loss_val: 0.8284 acc_val: 0.7800 time: 0.0065s\n",
            "Epoch: 0100 loss_train: 0.6145 acc_train: 0.8929 loss_val: 0.8261 acc_val: 0.7833 time: 0.0055s\n",
            "Epoch: 0101 loss_train: 0.5347 acc_train: 0.9214 loss_val: 0.8240 acc_val: 0.7800 time: 0.0055s\n",
            "Epoch: 0102 loss_train: 0.6388 acc_train: 0.8714 loss_val: 0.8221 acc_val: 0.7833 time: 0.0058s\n",
            "Epoch: 0103 loss_train: 0.5437 acc_train: 0.9071 loss_val: 0.8200 acc_val: 0.7833 time: 0.0056s\n",
            "Epoch: 0104 loss_train: 0.5689 acc_train: 0.9000 loss_val: 0.8177 acc_val: 0.7867 time: 0.0055s\n",
            "Epoch: 0105 loss_train: 0.5622 acc_train: 0.8857 loss_val: 0.8151 acc_val: 0.7867 time: 0.0056s\n",
            "Epoch: 0106 loss_train: 0.5657 acc_train: 0.8786 loss_val: 0.8125 acc_val: 0.7867 time: 0.0055s\n",
            "Epoch: 0107 loss_train: 0.5548 acc_train: 0.8500 loss_val: 0.8096 acc_val: 0.7867 time: 0.0056s\n",
            "Epoch: 0108 loss_train: 0.5578 acc_train: 0.9000 loss_val: 0.8070 acc_val: 0.7867 time: 0.0056s\n",
            "Epoch: 0109 loss_train: 0.5670 acc_train: 0.8786 loss_val: 0.8050 acc_val: 0.7900 time: 0.0055s\n",
            "Epoch: 0110 loss_train: 0.5465 acc_train: 0.8857 loss_val: 0.8034 acc_val: 0.7900 time: 0.0055s\n",
            "Epoch: 0111 loss_train: 0.4823 acc_train: 0.9143 loss_val: 0.8020 acc_val: 0.7900 time: 0.0052s\n",
            "Epoch: 0112 loss_train: 0.5176 acc_train: 0.9214 loss_val: 0.8008 acc_val: 0.7933 time: 0.0056s\n",
            "Epoch: 0113 loss_train: 0.5471 acc_train: 0.9143 loss_val: 0.7999 acc_val: 0.7933 time: 0.0057s\n",
            "Epoch: 0114 loss_train: 0.5172 acc_train: 0.9214 loss_val: 0.7991 acc_val: 0.7933 time: 0.0055s\n",
            "Epoch: 0115 loss_train: 0.5388 acc_train: 0.9000 loss_val: 0.7979 acc_val: 0.7933 time: 0.0057s\n",
            "Epoch: 0116 loss_train: 0.5769 acc_train: 0.9000 loss_val: 0.7958 acc_val: 0.7933 time: 0.0079s\n",
            "Epoch: 0117 loss_train: 0.5559 acc_train: 0.8929 loss_val: 0.7929 acc_val: 0.7933 time: 0.0081s\n",
            "Epoch: 0118 loss_train: 0.5280 acc_train: 0.9071 loss_val: 0.7893 acc_val: 0.7933 time: 0.0055s\n",
            "Epoch: 0119 loss_train: 0.5549 acc_train: 0.8714 loss_val: 0.7860 acc_val: 0.7933 time: 0.0055s\n",
            "Epoch: 0120 loss_train: 0.4975 acc_train: 0.9214 loss_val: 0.7832 acc_val: 0.7967 time: 0.0055s\n",
            "Epoch: 0121 loss_train: 0.5100 acc_train: 0.9357 loss_val: 0.7812 acc_val: 0.7967 time: 0.0054s\n",
            "Epoch: 0122 loss_train: 0.5278 acc_train: 0.9000 loss_val: 0.7796 acc_val: 0.7967 time: 0.0074s\n",
            "Epoch: 0123 loss_train: 0.5393 acc_train: 0.9071 loss_val: 0.7785 acc_val: 0.7967 time: 0.0056s\n",
            "Epoch: 0124 loss_train: 0.4609 acc_train: 0.9214 loss_val: 0.7776 acc_val: 0.7967 time: 0.0056s\n",
            "Epoch: 0125 loss_train: 0.5394 acc_train: 0.9214 loss_val: 0.7765 acc_val: 0.7967 time: 0.0055s\n",
            "Epoch: 0126 loss_train: 0.5221 acc_train: 0.9143 loss_val: 0.7754 acc_val: 0.7967 time: 0.0054s\n",
            "Epoch: 0127 loss_train: 0.5354 acc_train: 0.9143 loss_val: 0.7744 acc_val: 0.7933 time: 0.0067s\n",
            "Epoch: 0128 loss_train: 0.5641 acc_train: 0.8714 loss_val: 0.7731 acc_val: 0.7933 time: 0.0055s\n",
            "Epoch: 0129 loss_train: 0.5910 acc_train: 0.8929 loss_val: 0.7726 acc_val: 0.7900 time: 0.0090s\n",
            "Epoch: 0130 loss_train: 0.5247 acc_train: 0.9000 loss_val: 0.7715 acc_val: 0.7900 time: 0.0067s\n",
            "Epoch: 0131 loss_train: 0.5097 acc_train: 0.9214 loss_val: 0.7705 acc_val: 0.7900 time: 0.0057s\n",
            "Epoch: 0132 loss_train: 0.4852 acc_train: 0.9143 loss_val: 0.7694 acc_val: 0.7933 time: 0.0053s\n",
            "Epoch: 0133 loss_train: 0.5109 acc_train: 0.9286 loss_val: 0.7684 acc_val: 0.8000 time: 0.0056s\n",
            "Epoch: 0134 loss_train: 0.5566 acc_train: 0.8571 loss_val: 0.7675 acc_val: 0.8000 time: 0.0055s\n",
            "Epoch: 0135 loss_train: 0.5578 acc_train: 0.9071 loss_val: 0.7660 acc_val: 0.8000 time: 0.0054s\n",
            "Epoch: 0136 loss_train: 0.5169 acc_train: 0.9071 loss_val: 0.7646 acc_val: 0.8000 time: 0.0054s\n",
            "Epoch: 0137 loss_train: 0.4924 acc_train: 0.9143 loss_val: 0.7634 acc_val: 0.8000 time: 0.0055s\n",
            "Epoch: 0138 loss_train: 0.4772 acc_train: 0.9286 loss_val: 0.7623 acc_val: 0.8000 time: 0.0055s\n",
            "Epoch: 0139 loss_train: 0.4749 acc_train: 0.9214 loss_val: 0.7616 acc_val: 0.7967 time: 0.0055s\n",
            "Epoch: 0140 loss_train: 0.5886 acc_train: 0.8643 loss_val: 0.7608 acc_val: 0.7967 time: 0.0054s\n",
            "Epoch: 0141 loss_train: 0.5276 acc_train: 0.8857 loss_val: 0.7602 acc_val: 0.7933 time: 0.0056s\n",
            "Epoch: 0142 loss_train: 0.4938 acc_train: 0.9071 loss_val: 0.7589 acc_val: 0.7933 time: 0.0054s\n",
            "Epoch: 0143 loss_train: 0.4751 acc_train: 0.9286 loss_val: 0.7571 acc_val: 0.7900 time: 0.0056s\n",
            "Epoch: 0144 loss_train: 0.5150 acc_train: 0.8929 loss_val: 0.7553 acc_val: 0.7933 time: 0.0054s\n",
            "Epoch: 0145 loss_train: 0.5330 acc_train: 0.9000 loss_val: 0.7535 acc_val: 0.7967 time: 0.0054s\n",
            "Epoch: 0146 loss_train: 0.5012 acc_train: 0.9357 loss_val: 0.7519 acc_val: 0.7967 time: 0.0108s\n",
            "Epoch: 0147 loss_train: 0.5166 acc_train: 0.9214 loss_val: 0.7503 acc_val: 0.8000 time: 0.0094s\n",
            "Epoch: 0148 loss_train: 0.5365 acc_train: 0.9143 loss_val: 0.7487 acc_val: 0.8000 time: 0.0065s\n",
            "Epoch: 0149 loss_train: 0.4652 acc_train: 0.9071 loss_val: 0.7474 acc_val: 0.8033 time: 0.0060s\n",
            "Epoch: 0150 loss_train: 0.4695 acc_train: 0.9429 loss_val: 0.7459 acc_val: 0.8033 time: 0.0056s\n",
            "Epoch: 0151 loss_train: 0.4297 acc_train: 0.9286 loss_val: 0.7449 acc_val: 0.8033 time: 0.0056s\n",
            "Epoch: 0152 loss_train: 0.4376 acc_train: 0.9286 loss_val: 0.7441 acc_val: 0.8033 time: 0.0067s\n",
            "Epoch: 0153 loss_train: 0.4453 acc_train: 0.9071 loss_val: 0.7434 acc_val: 0.8000 time: 0.0057s\n",
            "Epoch: 0154 loss_train: 0.5209 acc_train: 0.9286 loss_val: 0.7425 acc_val: 0.8033 time: 0.0055s\n",
            "Epoch: 0155 loss_train: 0.4934 acc_train: 0.9071 loss_val: 0.7410 acc_val: 0.8067 time: 0.0055s\n",
            "Checkpoint is saved!\n",
            "Epoch: 0156 loss_train: 0.4802 acc_train: 0.9286 loss_val: 0.7399 acc_val: 0.8133 time: 0.0057s\n",
            "Checkpoint is saved!\n",
            "Epoch: 0157 loss_train: 0.4310 acc_train: 0.9429 loss_val: 0.7385 acc_val: 0.8133 time: 0.0059s\n",
            "Checkpoint is saved!\n",
            "Epoch: 0158 loss_train: 0.4407 acc_train: 0.9214 loss_val: 0.7371 acc_val: 0.8133 time: 0.0058s\n",
            "Checkpoint is saved!\n",
            "Epoch: 0159 loss_train: 0.5568 acc_train: 0.9071 loss_val: 0.7363 acc_val: 0.8133 time: 0.0062s\n",
            "Checkpoint is saved!\n",
            "Epoch: 0160 loss_train: 0.5076 acc_train: 0.8857 loss_val: 0.7358 acc_val: 0.8100 time: 0.0061s\n",
            "Checkpoint is saved!\n",
            "Epoch: 0161 loss_train: 0.4131 acc_train: 0.9286 loss_val: 0.7350 acc_val: 0.8067 time: 0.0091s\n",
            "Checkpoint is saved!\n",
            "Epoch: 0162 loss_train: 0.4661 acc_train: 0.9286 loss_val: 0.7341 acc_val: 0.8067 time: 0.0062s\n",
            "Checkpoint is saved!\n",
            "Epoch: 0163 loss_train: 0.4989 acc_train: 0.9000 loss_val: 0.7329 acc_val: 0.8000 time: 0.0066s\n",
            "Epoch: 0164 loss_train: 0.5068 acc_train: 0.9000 loss_val: 0.7323 acc_val: 0.8000 time: 0.0058s\n",
            "Epoch: 0165 loss_train: 0.4597 acc_train: 0.9214 loss_val: 0.7317 acc_val: 0.8000 time: 0.0058s\n",
            "Epoch: 0166 loss_train: 0.4589 acc_train: 0.9286 loss_val: 0.7313 acc_val: 0.8000 time: 0.0056s\n",
            "Epoch: 0167 loss_train: 0.4647 acc_train: 0.9214 loss_val: 0.7309 acc_val: 0.8000 time: 0.0065s\n",
            "Epoch: 0168 loss_train: 0.4467 acc_train: 0.9571 loss_val: 0.7311 acc_val: 0.8000 time: 0.0067s\n",
            "Epoch: 0169 loss_train: 0.4509 acc_train: 0.9429 loss_val: 0.7314 acc_val: 0.8033 time: 0.0059s\n",
            "Epoch: 0170 loss_train: 0.4551 acc_train: 0.9357 loss_val: 0.7317 acc_val: 0.8067 time: 0.0072s\n",
            "Checkpoint is saved!\n",
            "Epoch: 0171 loss_train: 0.4207 acc_train: 0.9500 loss_val: 0.7310 acc_val: 0.8067 time: 0.0082s\n",
            "Checkpoint is saved!\n",
            "Epoch: 0172 loss_train: 0.4361 acc_train: 0.9571 loss_val: 0.7303 acc_val: 0.8067 time: 0.0062s\n",
            "Checkpoint is saved!\n",
            "Epoch: 0173 loss_train: 0.4237 acc_train: 0.9357 loss_val: 0.7301 acc_val: 0.8033 time: 0.0060s\n",
            "Epoch: 0174 loss_train: 0.5132 acc_train: 0.8929 loss_val: 0.7304 acc_val: 0.8000 time: 0.0060s\n",
            "Epoch: 0175 loss_train: 0.4475 acc_train: 0.9429 loss_val: 0.7304 acc_val: 0.7967 time: 0.0058s\n",
            "Epoch: 0176 loss_train: 0.4597 acc_train: 0.9286 loss_val: 0.7303 acc_val: 0.7967 time: 0.0057s\n",
            "Epoch: 0177 loss_train: 0.4623 acc_train: 0.9143 loss_val: 0.7303 acc_val: 0.8000 time: 0.0082s\n",
            "Epoch: 0178 loss_train: 0.4270 acc_train: 0.9143 loss_val: 0.7305 acc_val: 0.8000 time: 0.0057s\n",
            "Epoch: 0179 loss_train: 0.4595 acc_train: 0.9143 loss_val: 0.7312 acc_val: 0.8000 time: 0.0055s\n",
            "Epoch: 0180 loss_train: 0.4456 acc_train: 0.9429 loss_val: 0.7298 acc_val: 0.8033 time: 0.0056s\n",
            "Epoch: 0181 loss_train: 0.4511 acc_train: 0.9500 loss_val: 0.7285 acc_val: 0.8033 time: 0.0056s\n",
            "Epoch: 0182 loss_train: 0.4223 acc_train: 0.9429 loss_val: 0.7262 acc_val: 0.8033 time: 0.0057s\n",
            "Epoch: 0183 loss_train: 0.4288 acc_train: 0.9429 loss_val: 0.7232 acc_val: 0.8000 time: 0.0056s\n",
            "Epoch: 0184 loss_train: 0.4143 acc_train: 0.9357 loss_val: 0.7206 acc_val: 0.7933 time: 0.0054s\n",
            "Epoch: 0185 loss_train: 0.4255 acc_train: 0.9571 loss_val: 0.7187 acc_val: 0.7967 time: 0.0054s\n",
            "Epoch: 0186 loss_train: 0.4642 acc_train: 0.9357 loss_val: 0.7177 acc_val: 0.8000 time: 0.0056s\n",
            "Epoch: 0187 loss_train: 0.4682 acc_train: 0.8929 loss_val: 0.7166 acc_val: 0.8000 time: 0.0053s\n",
            "Epoch: 0188 loss_train: 0.4459 acc_train: 0.9071 loss_val: 0.7158 acc_val: 0.8000 time: 0.0056s\n",
            "Epoch: 0189 loss_train: 0.4938 acc_train: 0.9214 loss_val: 0.7156 acc_val: 0.8033 time: 0.0053s\n",
            "Epoch: 0190 loss_train: 0.4543 acc_train: 0.9357 loss_val: 0.7161 acc_val: 0.8033 time: 0.0054s\n",
            "Epoch: 0191 loss_train: 0.4418 acc_train: 0.9571 loss_val: 0.7173 acc_val: 0.8000 time: 0.0056s\n",
            "Epoch: 0192 loss_train: 0.4197 acc_train: 0.9214 loss_val: 0.7182 acc_val: 0.8067 time: 0.0056s\n",
            "Checkpoint is saved!\n",
            "Epoch: 0193 loss_train: 0.4493 acc_train: 0.9071 loss_val: 0.7186 acc_val: 0.8067 time: 0.0059s\n",
            "Checkpoint is saved!\n",
            "Epoch: 0194 loss_train: 0.4601 acc_train: 0.9286 loss_val: 0.7179 acc_val: 0.8067 time: 0.0058s\n",
            "Checkpoint is saved!\n",
            "Epoch: 0195 loss_train: 0.4710 acc_train: 0.9143 loss_val: 0.7161 acc_val: 0.8067 time: 0.0058s\n",
            "Checkpoint is saved!\n",
            "Epoch: 0196 loss_train: 0.4500 acc_train: 0.9357 loss_val: 0.7146 acc_val: 0.8100 time: 0.0091s\n",
            "Checkpoint is saved!\n",
            "Epoch: 0197 loss_train: 0.3943 acc_train: 0.9429 loss_val: 0.7125 acc_val: 0.8067 time: 0.0060s\n",
            "Checkpoint is saved!\n",
            "Epoch: 0198 loss_train: 0.4193 acc_train: 0.9286 loss_val: 0.7110 acc_val: 0.8067 time: 0.0059s\n",
            "Checkpoint is saved!\n",
            "Epoch: 0199 loss_train: 0.4323 acc_train: 0.9571 loss_val: 0.7093 acc_val: 0.8133 time: 0.0065s\n",
            "Checkpoint is saved!\n",
            "Epoch: 0200 loss_train: 0.4226 acc_train: 0.9143 loss_val: 0.7083 acc_val: 0.8067 time: 0.0064s\n",
            "Checkpoint is saved!\n",
            "Optimization Finished!\n",
            "Total time elapsed: 1.5934s\n"
          ],
          "name": "stdout"
        }
      ]
    },
    {
      "cell_type": "markdown",
      "metadata": {
        "id": "jMoV32WrdrOQ",
        "colab_type": "text"
      },
      "source": [
        "## Step 12: Test the Trained GCN"
      ]
    },
    {
      "cell_type": "code",
      "metadata": {
        "id": "LunsNmlgdhlq",
        "colab_type": "code",
        "outputId": "f02d7402-9567-46ed-8090-c62666a0d5f8",
        "colab": {
          "base_uri": "https://localhost:8080/",
          "height": 35
        }
      },
      "source": [
        "def test(model):\n",
        "    model.eval()\n",
        "    # ========= YOU CODE HERE =========\n",
        "    # Feeding your input graph into your model and computing loss\n",
        "\n",
        "    # input: feature matrix and the graph's adjacency matrix\n",
        "    # output: predicted labels using the model in evaluation mode\n",
        "    output = model(features, adj)\n",
        "\n",
        "    # Use negative log likelihood loss(nll_loss) for the datas assigned for test\n",
        "    # idx_test: range of indices for data to be used in the test process\n",
        "    loss_test = F.nll_loss(output[idx_test], labels[idx_test])\n",
        "    # =================================\n",
        "    acc_test = accuracy(output[idx_test], labels[idx_test])\n",
        "    print(\"Test set results:\",\n",
        "          \"loss= {:.4f}\".format(loss_test.item()),\n",
        "          \"accuracy= {:.4f}\".format(acc_test.item()))\n",
        "# Testing\n",
        "test(model)"
      ],
      "execution_count": 12,
      "outputs": [
        {
          "output_type": "stream",
          "text": [
            "Test set results: loss= 0.8269 accuracy= 0.7722\n"
          ],
          "name": "stdout"
        }
      ]
    },
    {
      "cell_type": "markdown",
      "metadata": {
        "id": "M5Ji0OAB_Xvu",
        "colab_type": "text"
      },
      "source": [
        "## Step 13: Additional visualization: confusion matrix, learning/performance curves"
      ]
    },
    {
      "cell_type": "markdown",
      "metadata": {
        "id": "R3XnC-HUVd34",
        "colab_type": "text"
      },
      "source": [
        "*   *Case Based* ----> class A\n",
        "*   *Genetic Algorithms* ----> class B\n",
        "*   *Neural Networks* ----> class C\n",
        "*   *Probabilistic Methods* ----> class D\n",
        "*   *Reinforcement Learning* ----> class E\n",
        "*   *Rule Learning* ----> class F\n",
        "*   *Theory* ----> class G"
      ]
    },
    {
      "cell_type": "code",
      "metadata": {
        "id": "c3kBt0uCOCy5",
        "colab_type": "code",
        "colab": {}
      },
      "source": [
        "# Source: https://github.com/wcipriano/pretty-print-confusion-matrix\n",
        "\n",
        "# -*- coding: utf-8 -*-\n",
        "\"\"\"\n",
        "plot a pretty confusion matrix with seaborn\n",
        "Created on Mon Jun 25 14:17:37 2018\n",
        "@author: Wagner Cipriano - wagnerbhbr - gmail - CEFETMG / MMC\n",
        "REFerences:\n",
        "  https://www.mathworks.com/help/nnet/ref/plotconfusion.html\n",
        "  https://stackoverflow.com/questions/28200786/how-to-plot-scikit-learn-classification-report\n",
        "  https://stackoverflow.com/questions/5821125/how-to-plot-confusion-matrix-with-string-axis-rather-than-integer-in-python\n",
        "  https://www.programcreek.com/python/example/96197/seaborn.heatmap\n",
        "  https://stackoverflow.com/questions/19233771/sklearn-plot-confusion-matrix-with-labels/31720054\n",
        "  http://scikit-learn.org/stable/auto_examples/model_selection/plot_confusion_matrix.html#sphx-glr-auto-examples-model-selection-plot-confusion-matrix-py\n",
        "\"\"\"\n",
        "\n",
        "#imports\n",
        "import seaborn as sn\n",
        "import pandas as pd\n",
        "from pandas import DataFrame\n",
        "\n",
        "import matplotlib.pyplot as plt\n",
        "import matplotlib.font_manager as fm\n",
        "from matplotlib.collections import QuadMesh\n",
        "\n",
        "\n",
        "def get_new_fig(fn, figsize=[9,9]):\n",
        "    \"\"\" Init graphics \"\"\"\n",
        "    fig1 = plt.figure(fn, figsize)\n",
        "    ax1 = fig1.gca()   #Get Current Axis\n",
        "    ax1.cla() # clear existing plot\n",
        "    return fig1, ax1\n",
        "#\n",
        "\n",
        "def configcell_text_and_colors(array_df, lin, col, oText, facecolors, posi, fz, fmt, show_null_values=0):\n",
        "    \"\"\"\n",
        "      config cell text and colors\n",
        "      and return text elements to add and to dell\n",
        "      @TODO: use fmt\n",
        "    \"\"\"\n",
        "    text_add = []; text_del = [];\n",
        "    cell_val = array_df[lin][col]\n",
        "    tot_all = array_df[-1][-1]\n",
        "    per = (float(cell_val) / tot_all) * 100\n",
        "    curr_column = array_df[:,col]\n",
        "    ccl = len(curr_column)\n",
        "\n",
        "    #last line  and/or last column\n",
        "    if(col == (ccl - 1)) or (lin == (ccl - 1)):\n",
        "        #tots and percents\n",
        "        if(cell_val != 0):\n",
        "            if(col == ccl - 1) and (lin == ccl - 1):\n",
        "                tot_rig = 0\n",
        "                for i in range(array_df.shape[0] - 1):\n",
        "                    tot_rig += array_df[i][i]\n",
        "                per_ok = (float(tot_rig) / cell_val) * 100\n",
        "            elif(col == ccl - 1):\n",
        "                tot_rig = array_df[lin][lin]\n",
        "                per_ok = (float(tot_rig) / cell_val) * 100\n",
        "            elif(lin == ccl - 1):\n",
        "                tot_rig = array_df[col][col]\n",
        "                per_ok = (float(tot_rig) / cell_val) * 100\n",
        "            per_err = 100 - per_ok\n",
        "        else:\n",
        "            per_ok = per_err = 0\n",
        "\n",
        "        per_ok_s = ['%.2f%%'%(per_ok), '100%'] [per_ok == 100]\n",
        "\n",
        "        #text to DEL\n",
        "        text_del.append(oText)\n",
        "\n",
        "        #text to ADD\n",
        "        font_prop = fm.FontProperties(weight='bold', size=fz)\n",
        "        text_kwargs = dict(color='w', ha=\"center\", va=\"center\", gid='sum', fontproperties=font_prop)\n",
        "        lis_txt = ['%d'%(cell_val), per_ok_s, '%.2f%%'%(per_err)]\n",
        "        lis_kwa = [text_kwargs]\n",
        "        dic = text_kwargs.copy(); dic['color'] = 'g'; lis_kwa.append(dic);\n",
        "        dic = text_kwargs.copy(); dic['color'] = 'r'; lis_kwa.append(dic);\n",
        "        lis_pos = [(oText._x, oText._y-0.3), (oText._x, oText._y), (oText._x, oText._y+0.3)]\n",
        "        for i in range(len(lis_txt)):\n",
        "            newText = dict(x=lis_pos[i][0], y=lis_pos[i][1], text=lis_txt[i], kw=lis_kwa[i])\n",
        "            #print 'lin: %s, col: %s, newText: %s' %(lin, col, newText)\n",
        "            text_add.append(newText)\n",
        "        #print '\\n'\n",
        "\n",
        "        #set background color for sum cells (last line and last column)\n",
        "        carr = [0.27, 0.30, 0.27, 1.0]\n",
        "        if(col == ccl - 1) and (lin == ccl - 1):\n",
        "            carr = [0.17, 0.20, 0.17, 1.0]\n",
        "        facecolors[posi] = carr\n",
        "\n",
        "    else:\n",
        "        if(per > 0):\n",
        "            txt = '%s\\n%.2f%%' %(cell_val, per)\n",
        "        else:\n",
        "            if(show_null_values == 0):\n",
        "                txt = ''\n",
        "            elif(show_null_values == 1):\n",
        "                txt = '0'\n",
        "            else:\n",
        "                txt = '0\\n0.0%'\n",
        "        oText.set_text(txt)\n",
        "\n",
        "        #main diagonal\n",
        "        if(col == lin):\n",
        "            #set color of the textin the diagonal to white\n",
        "            oText.set_color('w')\n",
        "            # set background color in the diagonal to blue\n",
        "            facecolors[posi] = [0.35, 0.8, 0.55, 1.0]\n",
        "        else:\n",
        "            oText.set_color('r')\n",
        "\n",
        "    return text_add, text_del\n",
        "#\n",
        "\n",
        "def insert_totals(df_cm):\n",
        "    \"\"\" insert total column and line (the last ones) \"\"\"\n",
        "    sum_col = []\n",
        "    for c in df_cm.columns:\n",
        "        sum_col.append( df_cm[c].sum() )\n",
        "    sum_lin = []\n",
        "    for item_line in df_cm.iterrows():\n",
        "        sum_lin.append( item_line[1].sum() )\n",
        "    df_cm['sum_lin'] = sum_lin\n",
        "    sum_col.append(np.sum(sum_lin))\n",
        "    df_cm.loc['sum_col'] = sum_col\n",
        "    #print ('\\ndf_cm:\\n', df_cm, '\\n\\b\\n')\n",
        "#\n",
        "\n",
        "def pretty_plot_confusion_matrix(df_cm, annot=True, cmap=\"Oranges\", fmt='.2f', fz=11,\n",
        "      lw=0.5, cbar=False, figsize=[8,8], show_null_values=0, pred_val_axis='y'):\n",
        "    \"\"\"\n",
        "      print conf matrix with default layout (like matlab)\n",
        "      params:\n",
        "        df_cm          dataframe (pandas) without totals\n",
        "        annot          print text in each cell\n",
        "        cmap           Oranges,Oranges_r,YlGnBu,Blues,RdBu, ... see:\n",
        "        fz             fontsize\n",
        "        lw             linewidth\n",
        "        pred_val_axis  where to show the prediction values (x or y axis)\n",
        "                        'col' or 'x': show predicted values in columns (x axis) instead lines\n",
        "                        'lin' or 'y': show predicted values in lines   (y axis)\n",
        "    \"\"\"\n",
        "    if(pred_val_axis in ('col', 'x')):\n",
        "        xlbl = 'Predicted'\n",
        "        ylbl = 'Actual'\n",
        "    else:\n",
        "        xlbl = 'Actual'\n",
        "        ylbl = 'Predicted'\n",
        "        df_cm = df_cm.T\n",
        "\n",
        "    # create \"Total\" column\n",
        "    insert_totals(df_cm)\n",
        "\n",
        "    #this is for print allways in the same window\n",
        "    fig, ax1 = get_new_fig('Conf matrix default', figsize)\n",
        "\n",
        "    #thanks for seaborn\n",
        "    ax = sn.heatmap(df_cm, annot=annot, annot_kws={\"size\": fz}, linewidths=lw, ax=ax1,\n",
        "                    cbar=cbar, cmap=cmap, linecolor='w', fmt=fmt)\n",
        "\n",
        "    #set ticklabels rotation\n",
        "    ax.set_xticklabels(ax.get_xticklabels(), rotation = 45, fontsize = 10)\n",
        "    ax.set_yticklabels(ax.get_yticklabels(), rotation = 25, fontsize = 10)\n",
        "\n",
        "    # Turn off all the ticks\n",
        "    for t in ax.xaxis.get_major_ticks():\n",
        "        t.tick1On = False\n",
        "        t.tick2On = False\n",
        "    for t in ax.yaxis.get_major_ticks():\n",
        "        t.tick1On = False\n",
        "        t.tick2On = False\n",
        "\n",
        "    #face colors list\n",
        "    quadmesh = ax.findobj(QuadMesh)[0]\n",
        "    facecolors = quadmesh.get_facecolors()\n",
        "\n",
        "    #iter in text elements\n",
        "    array_df = np.array( df_cm.to_records(index=False).tolist() )\n",
        "    text_add = []; text_del = [];\n",
        "    posi = -1 #from left to right, bottom to top.\n",
        "    for t in ax.collections[0].axes.texts: #ax.texts:\n",
        "        pos = np.array( t.get_position()) - [0.5,0.5]\n",
        "        lin = int(pos[1]); col = int(pos[0]);\n",
        "        posi += 1\n",
        "        #print ('>>> pos: %s, posi: %s, val: %s, txt: %s' %(pos, posi, array_df[lin][col], t.get_text()))\n",
        "\n",
        "        #set text\n",
        "        txt_res = configcell_text_and_colors(array_df, lin, col, t, facecolors, posi, fz, fmt, show_null_values)\n",
        "\n",
        "        text_add.extend(txt_res[0])\n",
        "        text_del.extend(txt_res[1])\n",
        "\n",
        "    #remove the old ones\n",
        "    for item in text_del:\n",
        "        item.remove()\n",
        "    #append the new ones\n",
        "    for item in text_add:\n",
        "        ax.text(item['x'], item['y'], item['text'], **item['kw'])\n",
        "\n",
        "    #titles and legends\n",
        "    ax.set_title('Confusion matrix')\n",
        "    ax.set_xlabel(xlbl)\n",
        "    ax.set_ylabel(ylbl)\n",
        "    plt.tight_layout()  #set layout slim\n",
        "    plt.show()\n",
        "#\n",
        "\n",
        "def plot_confusion_matrix_from_data(y_test, predictions, columns=None, annot=True, cmap=\"Oranges\",\n",
        "      fmt='.2f', fz=11, lw=0.5, cbar=False, figsize=[8,8], show_null_values=0, pred_val_axis='lin'):\n",
        "    \"\"\"\n",
        "        plot confusion matrix function with y_test (actual values) and predictions (predic),\n",
        "        whitout a confusion matrix yet\n",
        "    \"\"\"\n",
        "    from sklearn.metrics import confusion_matrix\n",
        "    from pandas import DataFrame\n",
        "\n",
        "    #data\n",
        "    if(not columns):\n",
        "        #labels axis integer:\n",
        "        ##columns = range(1, len(np.unique(y_test))+1)\n",
        "        #labels axis string:\n",
        "        from string import ascii_uppercase\n",
        "        columns = ['class %s' %(i) for i in list(ascii_uppercase)[0:len(np.unique(y_test))]]\n",
        "\n",
        "    confm = confusion_matrix(y_test, predictions)\n",
        "    cmap = 'Oranges';\n",
        "    fz = 11;\n",
        "    figsize=[9,9];\n",
        "    show_null_values = 2\n",
        "    df_cm = DataFrame(confm, index=columns, columns=columns)\n",
        "    pretty_plot_confusion_matrix(df_cm, fz=fz, cmap=cmap, figsize=figsize, show_null_values=show_null_values, pred_val_axis=pred_val_axis)\n",
        "#"
      ],
      "execution_count": 0,
      "outputs": []
    },
    {
      "cell_type": "code",
      "metadata": {
        "id": "OpZ37VDGONQw",
        "colab_type": "code",
        "outputId": "2a5ee59a-0b52-4ed3-a890-1810959e0b21",
        "colab": {
          "base_uri": "https://localhost:8080/",
          "height": 818
        }
      },
      "source": [
        "from sklearn.metrics import confusion_matrix\n",
        "\n",
        "# Create numpy arrays for true/predicted labels\n",
        "with torch.no_grad():\n",
        "  true = labels[idx_test].cpu().numpy()\n",
        "  predicted = model(features, adj)[idx_test].max(1)[1].type_as(labels).cpu().numpy()\n",
        "\n",
        "# Plot confusion matrix\n",
        "true_size = len(true) > 10\n",
        "\n",
        "plot_confusion_matrix_from_data(true, predicted, columns,\n",
        "  annot = True, cmap = 'Oranges', fmt = '.2f', fz = (lambda x: 12 if x else 9)(true_size),\n",
        "  lw = 0.5, cbar = False,  figsize = (lambda x: [9,9] if x else [12,12])(true_size),\n",
        "  show_null_values = 2, pred_val_axis = 'y')\n",
        "\n",
        "\n",
        "#cf = confusion_matrix(true, predicted)\n",
        "#print(cf)\n",
        "\n",
        "#df_cm = pd.DataFrame(cf, index = [i for i in \"ABCDEFG\"],\n",
        "#                  columns = [i for i in \"ABCDEFG\"])\n",
        "#cmap = 'PuRd'\n",
        "#pretty_plot_confusion_matrix(df_cm, cmap=cmap)\n",
        "\n",
        "#plt.figure(figsize = (10,7))\n",
        "# for label size\n",
        "#sn.set(font_scale=1.4)\n",
        "# for font size\n",
        "#sn.heatmap(df_cm, annot=True,annot_kws={\"size\": 16})"
      ],
      "execution_count": 24,
      "outputs": [
        {
          "output_type": "stream",
          "text": [
            "/usr/local/lib/python3.6/dist-packages/ipykernel_launcher.py:165: MatplotlibDeprecationWarning: \n",
            "The tick1On function was deprecated in Matplotlib 3.1 and will be removed in 3.3. Use Tick.tick1line.set_visible instead.\n",
            "/usr/local/lib/python3.6/dist-packages/ipykernel_launcher.py:166: MatplotlibDeprecationWarning: \n",
            "The tick2On function was deprecated in Matplotlib 3.1 and will be removed in 3.3. Use Tick.tick2line.set_visible instead.\n",
            "/usr/local/lib/python3.6/dist-packages/ipykernel_launcher.py:168: MatplotlibDeprecationWarning: \n",
            "The tick1On function was deprecated in Matplotlib 3.1 and will be removed in 3.3. Use Tick.tick1line.set_visible instead.\n",
            "/usr/local/lib/python3.6/dist-packages/ipykernel_launcher.py:169: MatplotlibDeprecationWarning: \n",
            "The tick2On function was deprecated in Matplotlib 3.1 and will be removed in 3.3. Use Tick.tick2line.set_visible instead.\n",
            "/usr/local/lib/python3.6/dist-packages/ipykernel_launcher.py:64: DeprecationWarning: In future, it will be an error for 'np.bool_' scalars to be interpreted as an index\n"
          ],
          "name": "stderr"
        },
        {
          "output_type": "display_data",
          "data": {
            "image/png": "[encoded data removed]",
            "text/plain": [
              "<Figure size 648x648 with 1 Axes>"
            ]
          },
          "metadata": {
            "tags": []
          }
        }
      ]
    }
  ]
}